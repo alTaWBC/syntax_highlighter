{
 "cells": [
  {
   "cell_type": "code",
   "execution_count": 21,
   "metadata": {},
   "outputs": [
    {
     "data": {
      "text/plain": [
       "82"
      ]
     },
     "execution_count": 21,
     "metadata": {},
     "output_type": "execute_result"
    }
   ],
   "source": [
    "import re\n",
    "import constants as c\n",
    "import json\n",
    "\n",
    "text = open(c.MATLAB_TMLANGUAGE, encoding=\"utf8\").read()\n",
    "\n",
    "# token_dict = dict( re.findall(r\"<string>([^<]*\\.[^<]*)</string>\\n\\s*<key>[^<]*</key>\\n\\s*<string>((?:.*)\\|(?:.*))</string>\",text))\n",
    "# token_dict = dict(re.findall(r\"<string>([^<]*\\.[^<]*)</string>\\n\\s*<key>[^<]*</key>\\n\\s*<string>(.*)</string>\",text))\n",
    "# re.findall(r\"<string>([^<]*\\.[^<]*)</string>\\n\\s*<key>[^<]*</key>\\n\\s*<string>((?:\\w+\\|?)*?)</string>\",text)\n",
    "\n",
    "token_dict = dict(re.findall(\n",
    "    r\"<string>(\\w+(?:\\.\\w+)*\\.\\w+)</string>\\n\\s*<key>[^<]*</key>\\n\\s*<string>(.*)</string>\", text))\n",
    "\n",
    "with open(c.SCOPE_DICTIONARY, \"w\") as scope_dictionary:\n",
    "    json.dump(token_dict, scope_dictionary, indent=4)\n",
    "\n",
    "with open(c.DICTIONARY, \"w\") as matlab_scopes:\n",
    "    json.dump({k: v for v, k in enumerate(token_dict.keys())},\n",
    "              matlab_scopes, indent=4)\n",
    "\n",
    "len(token_dict)\n"
   ]
  },
  {
   "cell_type": "code",
   "execution_count": 10,
   "metadata": {},
   "outputs": [],
   "source": [
    "filename = c.MATLAB_TMLANGUAGE\n",
    "regex = \">((?:\\w+\\.(?:\\w+\\.)\\w+)+)<\"\n",
    "\n",
    "with open(filename, \"r\") as matlab_scopes:\n",
    "    content = matlab_scopes.read()\n",
    "    scopes = list(set(re.findall(regex, content)))\n",
    "\n",
    "with open(c.DICTIONARY, \"w\") as matlab_scopes:\n",
    "    json.dump({k:v for v,k in enumerate(scopes)}, matlab_scopes)"
   ]
  }
 ],
 "metadata": {
  "interpreter": {
   "hash": "2232cce0feda495dbaab39ecfda12b4e9c75df0181da683c6fd0c1aaa6fdea1a"
  },
  "kernelspec": {
   "display_name": "Python 3.9.6 64-bit",
   "language": "python",
   "name": "python3"
  },
  "language_info": {
   "codemirror_mode": {
    "name": "ipython",
    "version": 3
   },
   "file_extension": ".py",
   "mimetype": "text/x-python",
   "name": "python",
   "nbconvert_exporter": "python",
   "pygments_lexer": "ipython3",
   "version": "3.10.0"
  },
  "orig_nbformat": 4
 },
 "nbformat": 4,
 "nbformat_minor": 2
}
