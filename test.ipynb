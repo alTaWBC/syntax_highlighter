{
 "cells": [
  {
   "cell_type": "code",
   "execution_count": null,
   "metadata": {},
   "outputs": [],
   "source": [
    "nested_code = \"\"\"\n",
    "function A(x, y)              % Main function\n",
    "B(x,y)\n",
    "D(y)\n",
    "\n",
    "   function B(x,y)            % Nested in A\n",
    "   C(x)\n",
    "   D(y)\n",
    "\n",
    "      function C(x)           % Nested in B\n",
    "      D(x)\n",
    "      end\n",
    "   end\n",
    "\n",
    "   function D(x)              % Nested in A\n",
    "   E(x)\n",
    "\n",
    "      function E(x)           % Nested in D\n",
    "      disp(x)\n",
    "      end\n",
    "   end\n",
    "end\n",
    "\"\"\""
   ]
  },
  {
   "cell_type": "code",
   "execution_count": null,
   "metadata": {},
   "outputs": [],
   "source": [
    "import subprocess\n",
    "import constants as c"
   ]
  },
  {
   "cell_type": "code",
   "execution_count": null,
   "metadata": {},
   "outputs": [],
   "source": [
    "with open(\"temp_file.m\", 'w') as temp_file:\n",
    "    temp_file.write(nested_code)\n",
    "\n",
    "subprocess.Popen([c.NODE, c.TEXTMATE_SCRIPT, \"temp_file.m\", \"output_file.csv\"])"
   ]
  },
  {
   "cell_type": "code",
   "execution_count": null,
   "metadata": {},
   "outputs": [],
   "source": [
    "import pandas as pd"
   ]
  },
  {
   "cell_type": "code",
   "execution_count": null,
   "metadata": {},
   "outputs": [],
   "source": [
    "import pandas as pd\n",
    "dataframe = pd.read_csv(\"output_file.csv\", sep=str(\"_,_\")).fillna(\"\")\n",
    "dataframe = dataframe.sort_values(by=[\"line\", \"start\"])\n",
    "dataframe.to_csv(\"output_file_1.csv\", index=False)"
   ]
  },
  {
   "cell_type": "code",
   "execution_count": null,
   "metadata": {},
   "outputs": [],
   "source": [
    "from numpy import gcd\n",
    "import re\n",
    "\n",
    "start = dataframe[dataframe['start'] == 0]\n",
    "ident = start[start['token'].apply(str.isspace)]\n",
    "gcd.reduce(ident['end'])"
   ]
  },
  {
   "cell_type": "code",
   "execution_count": null,
   "metadata": {},
   "outputs": [],
   "source": [
    "dataframe = pd.read_csv(\"output_file_1.csv\")\n",
    "dataframe[dataframe['line'] < 10]"
   ]
  },
  {
   "cell_type": "code",
   "execution_count": null,
   "metadata": {},
   "outputs": [],
   "source": [
    "dataframe[['start', 'token']]"
   ]
  },
  {
   "cell_type": "code",
   "execution_count": null,
   "metadata": {},
   "outputs": [],
   "source": [
    "import token_to_image as ti\n",
    "\n",
    "ident = 3\n",
    "dataframe['rgb'] = dataframe['scopes'].apply(lambda x: ti.getHighlight(x))\n",
    "dataframe['pixel_size'] = dataframe[['start', 'token']].apply(lambda row: len(row['token'])//ident if row['start'] == 0 and row['token'].isspace() else 1, axis=1)\n",
    "dataframe['position'] = dataframe.groupby('line')['pixel_size'].cumsum() - dataframe['pixel_size']\n",
    "dataframe.to_csv('ident_try.csv')"
   ]
  },
  {
   "cell_type": "code",
   "execution_count": null,
   "metadata": {},
   "outputs": [],
   "source": [
    "from itertools import product\n",
    "\n",
    "for i, j in product(range(3), range(4)):\n",
    "    print(i,j)"
   ]
  },
  {
   "cell_type": "code",
   "execution_count": null,
   "metadata": {},
   "outputs": [],
   "source": [
    "dataframe.columns"
   ]
  },
  {
   "cell_type": "code",
   "execution_count": null,
   "metadata": {},
   "outputs": [],
   "source": [
    "dataframe[dataframe.apply(lambda x: (x['start'] != 0 and x['token'].isspace()) or len(x[\"token\"]) == 0, axis=1)]"
   ]
  },
  {
   "cell_type": "code",
   "execution_count": 7,
   "metadata": {},
   "outputs": [
    {
     "data": {
      "text/html": [
       "<div>\n",
       "<style scoped>\n",
       "    .dataframe tbody tr th:only-of-type {\n",
       "        vertical-align: middle;\n",
       "    }\n",
       "\n",
       "    .dataframe tbody tr th {\n",
       "        vertical-align: top;\n",
       "    }\n",
       "\n",
       "    .dataframe thead th {\n",
       "        text-align: right;\n",
       "    }\n",
       "</style>\n",
       "<table border=\"1\" class=\"dataframe\">\n",
       "  <thead>\n",
       "    <tr style=\"text-align: right;\">\n",
       "      <th></th>\n",
       "      <th>line</th>\n",
       "      <th>start</th>\n",
       "      <th>end</th>\n",
       "      <th>token</th>\n",
       "      <th>scopes</th>\n",
       "    </tr>\n",
       "  </thead>\n",
       "  <tbody>\n",
       "    <tr>\n",
       "      <th>0</th>\n",
       "      <td>1</td>\n",
       "      <td>0</td>\n",
       "      <td>8</td>\n",
       "      <td>function</td>\n",
       "      <td>[\"source.matlab\", \"meta.function-call.command....</td>\n",
       "    </tr>\n",
       "    <tr>\n",
       "      <th>2</th>\n",
       "      <td>1</td>\n",
       "      <td>9</td>\n",
       "      <td>30</td>\n",
       "      <td>A(x, y)</td>\n",
       "      <td>[\"source.matlab\", \"meta.function-call.command....</td>\n",
       "    </tr>\n",
       "    <tr>\n",
       "      <th>3</th>\n",
       "      <td>1</td>\n",
       "      <td>30</td>\n",
       "      <td>31</td>\n",
       "      <td>%</td>\n",
       "      <td>[\"source.matlab\", \"comment.line.percentage.mat...</td>\n",
       "    </tr>\n",
       "    <tr>\n",
       "      <th>7</th>\n",
       "      <td>1</td>\n",
       "      <td>31</td>\n",
       "      <td>45</td>\n",
       "      <td>Main function</td>\n",
       "      <td>[\"source.matlab\", \"comment.line.percentage.mat...</td>\n",
       "    </tr>\n",
       "    <tr>\n",
       "      <th>5</th>\n",
       "      <td>2</td>\n",
       "      <td>0</td>\n",
       "      <td>1</td>\n",
       "      <td>B</td>\n",
       "      <td>[\"source.matlab\", \"meta.function-call.parens.m...</td>\n",
       "    </tr>\n",
       "    <tr>\n",
       "      <th>...</th>\n",
       "      <td>...</td>\n",
       "      <td>...</td>\n",
       "      <td>...</td>\n",
       "      <td>...</td>\n",
       "      <td>...</td>\n",
       "    </tr>\n",
       "    <tr>\n",
       "      <th>76</th>\n",
       "      <td>19</td>\n",
       "      <td>0</td>\n",
       "      <td>6</td>\n",
       "      <td></td>\n",
       "      <td>[\"source.matlab\"]</td>\n",
       "    </tr>\n",
       "    <tr>\n",
       "      <th>73</th>\n",
       "      <td>19</td>\n",
       "      <td>6</td>\n",
       "      <td>9</td>\n",
       "      <td>end</td>\n",
       "      <td>[\"source.matlab\", \"variable.other.readwrite.ma...</td>\n",
       "    </tr>\n",
       "    <tr>\n",
       "      <th>74</th>\n",
       "      <td>20</td>\n",
       "      <td>0</td>\n",
       "      <td>3</td>\n",
       "      <td></td>\n",
       "      <td>[\"source.matlab\"]</td>\n",
       "    </tr>\n",
       "    <tr>\n",
       "      <th>75</th>\n",
       "      <td>20</td>\n",
       "      <td>3</td>\n",
       "      <td>6</td>\n",
       "      <td>end</td>\n",
       "      <td>[\"source.matlab\", \"variable.other.readwrite.ma...</td>\n",
       "    </tr>\n",
       "    <tr>\n",
       "      <th>77</th>\n",
       "      <td>21</td>\n",
       "      <td>0</td>\n",
       "      <td>3</td>\n",
       "      <td>end</td>\n",
       "      <td>[\"source.matlab\", \"variable.other.readwrite.ma...</td>\n",
       "    </tr>\n",
       "  </tbody>\n",
       "</table>\n",
       "<p>68 rows × 5 columns</p>\n",
       "</div>"
      ],
      "text/plain": [
       "    line  start  end                  token  \\\n",
       "0      1      0    8               function   \n",
       "2      1      9   30  A(x, y)                 \n",
       "3      1     30   31                      %   \n",
       "7      1     31   45          Main function   \n",
       "5      2      0    1                      B   \n",
       "..   ...    ...  ...                    ...   \n",
       "76    19      0    6                          \n",
       "73    19      6    9                    end   \n",
       "74    20      0    3                          \n",
       "75    20      3    6                    end   \n",
       "77    21      0    3                    end   \n",
       "\n",
       "                                               scopes  \n",
       "0   [\"source.matlab\", \"meta.function-call.command....  \n",
       "2   [\"source.matlab\", \"meta.function-call.command....  \n",
       "3   [\"source.matlab\", \"comment.line.percentage.mat...  \n",
       "7   [\"source.matlab\", \"comment.line.percentage.mat...  \n",
       "5   [\"source.matlab\", \"meta.function-call.parens.m...  \n",
       "..                                                ...  \n",
       "76                                  [\"source.matlab\"]  \n",
       "73  [\"source.matlab\", \"variable.other.readwrite.ma...  \n",
       "74                                  [\"source.matlab\"]  \n",
       "75  [\"source.matlab\", \"variable.other.readwrite.ma...  \n",
       "77  [\"source.matlab\", \"variable.other.readwrite.ma...  \n",
       "\n",
       "[68 rows x 5 columns]"
      ]
     },
     "execution_count": 7,
     "metadata": {},
     "output_type": "execute_result"
    }
   ],
   "source": [
    "dataframe[dataframe.apply(lambda x: len(x[\"token\"]) > 0 and (x['start'] == 0 or not x['token'].isspace()), axis=1)]"
   ]
  },
  {
   "cell_type": "code",
   "execution_count": null,
   "metadata": {},
   "outputs": [],
   "source": [
    "def _remove_empty_lines(dataframe):\n",
    "    return dataframe[dataframe[\"token\"].str.len() > 0]\n",
    "\n",
    "_remove_empty_lines(dataframe)"
   ]
  },
  {
   "cell_type": "code",
   "execution_count": 1,
   "metadata": {},
   "outputs": [
    {
     "name": "stderr",
     "output_type": "stream",
     "text": [
      "c:\\Users\\William\\Desktop\\repository\\syntax_highlighter\\env\\lib\\site-packages\\pandas\\util\\_decorators.py:311: ParserWarning: Falling back to the 'python' engine because the 'c' engine does not support regex separators (separators > 1 char and different from '\\s+' are interpreted as regex); you can avoid this warning by specifying engine='python'.\n",
      "  return func(*args, **kwargs)\n"
     ]
    }
   ],
   "source": [
    "import pandas as pd\n",
    "dataframe = pd.read_csv(\"output_file.csv\", sep=str(\"_,_\")).fillna(\"\")\n",
    "dataframe = dataframe.sort_values(by=[\"line\", \"start\"])\n",
    "dataframe.to_csv(\"output_file_1.csv\", index=False)"
   ]
  },
  {
   "cell_type": "code",
   "execution_count": 2,
   "metadata": {},
   "outputs": [],
   "source": [
    "import syntax_higlight as sh\n",
    "\n",
    "df1 = sh.syntax_highlight(dataframe)\n",
    "df1.to_csv(\"result.csv\", index=False)"
   ]
  }
 ],
 "metadata": {
  "interpreter": {
   "hash": "d859a9f368dccf2bdecfe0974a7c490541ffad91c8d1b23e8bdfd5cae951cccd"
  },
  "kernelspec": {
   "display_name": "Python 3.10.0 ('env': venv)",
   "language": "python",
   "name": "python3"
  },
  "language_info": {
   "codemirror_mode": {
    "name": "ipython",
    "version": 3
   },
   "file_extension": ".py",
   "mimetype": "text/x-python",
   "name": "python",
   "nbconvert_exporter": "python",
   "pygments_lexer": "ipython3",
   "version": "3.10.4"
  },
  "orig_nbformat": 4
 },
 "nbformat": 4,
 "nbformat_minor": 2
}
