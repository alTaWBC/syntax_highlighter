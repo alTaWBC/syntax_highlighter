{
 "cells": [
  {
   "cell_type": "code",
   "execution_count": null,
   "metadata": {},
   "outputs": [],
   "source": [
    "nested_code = \"\"\"\n",
    "function A(x, y)              % Main function\n",
    "B(x,y)\n",
    "D(y)\n",
    "\n",
    "   function B(x,y)            % Nested in A\n",
    "   C(x)\n",
    "   D(y)\n",
    "\n",
    "      function C(x)           % Nested in B\n",
    "      D(x)\n",
    "      end\n",
    "   end\n",
    "\n",
    "   function D(x)              % Nested in A\n",
    "   E(x)\n",
    "\n",
    "      function E(x)           % Nested in D\n",
    "      disp(x)\n",
    "      end\n",
    "   end\n",
    "end\n",
    "\"\"\""
   ]
  },
  {
   "cell_type": "code",
   "execution_count": null,
   "metadata": {},
   "outputs": [],
   "source": [
    "import subprocess\n",
    "import constants as c"
   ]
  },
  {
   "cell_type": "code",
   "execution_count": null,
   "metadata": {},
   "outputs": [],
   "source": [
    "with open(\"temp_file.m\", 'w') as temp_file:\n",
    "    temp_file.write(nested_code)\n",
    "\n",
    "subprocess.Popen([c.NODE, c.TEXTMATE_SCRIPT, \"temp_file.m\", \"output_file.csv\"])"
   ]
  },
  {
   "cell_type": "code",
   "execution_count": 6,
   "metadata": {},
   "outputs": [],
   "source": [
    "import pandas as pd"
   ]
  },
  {
   "cell_type": "code",
   "execution_count": 7,
   "metadata": {},
   "outputs": [
    {
     "name": "stderr",
     "output_type": "stream",
     "text": [
      "c:\\Users\\WilliamCosta\\Documents\\bolsas\\everypiece\\env\\lib\\site-packages\\pandas\\util\\_decorators.py:311: ParserWarning: Falling back to the 'python' engine because the 'c' engine does not support regex separators (separators > 1 char and different from '\\s+' are interpreted as regex); you can avoid this warning by specifying engine='python'.\n",
      "  return func(*args, **kwargs)\n"
     ]
    }
   ],
   "source": [
    "dataframe = pd.read_csv(\"output_file.csv\", sep=str(\"_,_\")).fillna(\"\")\n",
    "dataframe = dataframe.sort_values(by=[\"line\", \"start\"])\n",
    "dataframe.to_csv(\"output_file_1.csv\", index=False)"
   ]
  },
  {
   "cell_type": "code",
   "execution_count": null,
   "metadata": {},
   "outputs": [],
   "source": [
    "from numpy import gcd\n",
    "import re\n",
    "\n",
    "start = dataframe[dataframe['start'] == 0]\n",
    "ident = start[start['token'].apply(str.isspace)]\n",
    "gcd.reduce(ident['end'])"
   ]
  },
  {
   "cell_type": "code",
   "execution_count": null,
   "metadata": {},
   "outputs": [],
   "source": [
    "dataframe = pd.read_csv(\"output_file_1.csv\")\n",
    "dataframe[dataframe['line'] < 10]"
   ]
  },
  {
   "cell_type": "code",
   "execution_count": 15,
   "metadata": {},
   "outputs": [
    {
     "data": {
      "text/html": [
       "<div>\n",
       "<style scoped>\n",
       "    .dataframe tbody tr th:only-of-type {\n",
       "        vertical-align: middle;\n",
       "    }\n",
       "\n",
       "    .dataframe tbody tr th {\n",
       "        vertical-align: top;\n",
       "    }\n",
       "\n",
       "    .dataframe thead th {\n",
       "        text-align: right;\n",
       "    }\n",
       "</style>\n",
       "<table border=\"1\" class=\"dataframe\">\n",
       "  <thead>\n",
       "    <tr style=\"text-align: right;\">\n",
       "      <th></th>\n",
       "      <th>start</th>\n",
       "      <th>token</th>\n",
       "    </tr>\n",
       "  </thead>\n",
       "  <tbody>\n",
       "    <tr>\n",
       "      <th>4</th>\n",
       "      <td>0</td>\n",
       "      <td></td>\n",
       "    </tr>\n",
       "    <tr>\n",
       "      <th>0</th>\n",
       "      <td>0</td>\n",
       "      <td>function</td>\n",
       "    </tr>\n",
       "    <tr>\n",
       "      <th>1</th>\n",
       "      <td>8</td>\n",
       "      <td></td>\n",
       "    </tr>\n",
       "    <tr>\n",
       "      <th>2</th>\n",
       "      <td>9</td>\n",
       "      <td>A(x, y)</td>\n",
       "    </tr>\n",
       "    <tr>\n",
       "      <th>3</th>\n",
       "      <td>30</td>\n",
       "      <td>%</td>\n",
       "    </tr>\n",
       "    <tr>\n",
       "      <th>...</th>\n",
       "      <td>...</td>\n",
       "      <td>...</td>\n",
       "    </tr>\n",
       "    <tr>\n",
       "      <th>73</th>\n",
       "      <td>6</td>\n",
       "      <td>end</td>\n",
       "    </tr>\n",
       "    <tr>\n",
       "      <th>74</th>\n",
       "      <td>0</td>\n",
       "      <td></td>\n",
       "    </tr>\n",
       "    <tr>\n",
       "      <th>75</th>\n",
       "      <td>3</td>\n",
       "      <td>end</td>\n",
       "    </tr>\n",
       "    <tr>\n",
       "      <th>77</th>\n",
       "      <td>0</td>\n",
       "      <td>end</td>\n",
       "    </tr>\n",
       "    <tr>\n",
       "      <th>78</th>\n",
       "      <td>0</td>\n",
       "      <td></td>\n",
       "    </tr>\n",
       "  </tbody>\n",
       "</table>\n",
       "<p>79 rows × 2 columns</p>\n",
       "</div>"
      ],
      "text/plain": [
       "    start                  token\n",
       "4       0                       \n",
       "0       0               function\n",
       "1       8                       \n",
       "2       9  A(x, y)              \n",
       "3      30                      %\n",
       "..    ...                    ...\n",
       "73      6                    end\n",
       "74      0                       \n",
       "75      3                    end\n",
       "77      0                    end\n",
       "78      0                       \n",
       "\n",
       "[79 rows x 2 columns]"
      ]
     },
     "execution_count": 15,
     "metadata": {},
     "output_type": "execute_result"
    }
   ],
   "source": [
    "dataframe[['start', 'token']]"
   ]
  },
  {
   "cell_type": "code",
   "execution_count": 10,
   "metadata": {},
   "outputs": [],
   "source": [
    "import token_to_image as ti\n",
    "\n",
    "ident = 3\n",
    "dataframe['rgb'] = dataframe['scopes'].apply(lambda x: ti.getHighlight(x))\n",
    "dataframe['pixel_size'] = dataframe[['start', 'token']].apply(lambda row: len(row['token'])//ident if row['start'] == 0 and row['token'].isspace() else 1, axis=1)\n",
    "dataframe['position'] = dataframe.groupby('line')['pixel_size'].cumsum() - dataframe['pixel_size']\n",
    "dataframe.to_csv('ident_try.csv')"
   ]
  },
  {
   "cell_type": "code",
   "execution_count": 1,
   "metadata": {},
   "outputs": [
    {
     "name": "stdout",
     "output_type": "stream",
     "text": [
      "0 0\n",
      "0 1\n",
      "0 2\n",
      "0 3\n",
      "1 0\n",
      "1 1\n",
      "1 2\n",
      "1 3\n",
      "2 0\n",
      "2 1\n",
      "2 2\n",
      "2 3\n"
     ]
    }
   ],
   "source": [
    "from itertools import product\n",
    "\n",
    "for i, j in product(range(3), range(4)):\n",
    "    print(i,j)"
   ]
  }
 ],
 "metadata": {
  "interpreter": {
   "hash": "d859a9f368dccf2bdecfe0974a7c490541ffad91c8d1b23e8bdfd5cae951cccd"
  },
  "kernelspec": {
   "display_name": "Python 3.10.0 ('env': venv)",
   "language": "python",
   "name": "python3"
  },
  "language_info": {
   "codemirror_mode": {
    "name": "ipython",
    "version": 3
   },
   "file_extension": ".py",
   "mimetype": "text/x-python",
   "name": "python",
   "nbconvert_exporter": "python",
   "pygments_lexer": "ipython3",
   "version": "3.10.0"
  },
  "orig_nbformat": 4
 },
 "nbformat": 4,
 "nbformat_minor": 2
}
