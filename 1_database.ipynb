{
 "cells": [
  {
   "cell_type": "code",
   "execution_count": 3,
   "metadata": {},
   "outputs": [],
   "source": [
    "from os import listdir, getcwd\n",
    "from os.path import join\n",
    "import os\n",
    "from datetime import datetime as dt\n",
    "import sqlite3 as sql\n",
    "import numpy as np\n",
    "import pandas as pd\n",
    "import matplotlib.pyplot as plt\n",
    "import constants as c"
   ]
  },
  {
   "cell_type": "code",
   "execution_count": 4,
   "metadata": {},
   "outputs": [],
   "source": [
    "conn = sql.connect(c.DATABASE)\n",
    "cursor = conn.cursor()"
   ]
  },
  {
   "cell_type": "code",
   "execution_count": 5,
   "metadata": {},
   "outputs": [],
   "source": [
    "def prepare_database():\n",
    "    view = \"\"\"\n",
    "        create view lines_of_code as\n",
    "        select distinct blocks_mfiles.id_block, code\n",
    "        from lines_mfiles, lines_tokens, blocks_mfiles\n",
    "        where lines_mfiles.id_line = lines_tokens.id_line\n",
    "        and lines_tokens.id_block = blocks_mfiles.id_block\n",
    "        order by lines_mfiles.id_mfile, lines_tokens.id_block, lines_mfiles.line_nbr\n",
    "        \"\"\"\n",
    "    cursor.execute(view)\n",
    "    \n",
    "    index = \"create table lines_of_code_table as select * from lines_of_code\"\n",
    "    cursor.execute(index)\n",
    "\n",
    "    index = \"create index lines_of_code_table_id_block on lines_of_code_table (id_block)\"\n",
    "    cursor.execute(index)\n",
    "\n",
    "\n",
    "def code_by_block(files: int):\n",
    "    query = \"\"\"select *\n",
    "    from lines_of_code_table\n",
    "    where lines_of_code_table.id_block <\"\"\" + str(files)\n",
    "    cursor.execute(query)\n",
    "    with open('results.csv', 'w') as results:\n",
    "        print('block,code', file=results)\n",
    "        for row in cursor:\n",
    "            print(f'{row[0]},{row[1]}', file=results)\n",
    "\n",
    "\n",
    "def change_configs():\n",
    "    with open(database_configs_location, \"w\") as database_configs:\n",
    "        print(\"False\", file=database_configs)\n"
   ]
  },
  {
   "cell_type": "code",
   "execution_count": 6,
   "metadata": {},
   "outputs": [],
   "source": [
    "if False:\n",
    "    prepare_database() # Correr sempre que mudar a base de dados\n",
    "    change_configs()\n",
    "\n",
    "number_of_files = input(\"How many blocks of code?\")\n",
    "code_by_block(number_of_files)"
   ]
  },
  {
   "cell_type": "code",
   "execution_count": null,
   "metadata": {},
   "outputs": [],
   "source": [
    "with open('results.csv') as results:\n",
    "    for entry in results.readlines()[1:]:\n",
    "        index = entry.index(',')\n",
    "        line = entry[:index]\n",
    "        code = entry[index+1:-1]\n",
    "        with open(f'{c.MATLAB_FILES}\\\\{line}.m', 'a') as create_file:\n",
    "            create_file.write(code)\n",
    "            create_file.write('\\n')"
   ]
  }
 ],
 "metadata": {
  "interpreter": {
   "hash": "f61099c7ad82a9b6c738df1195ba4f5e80cc4e8e9d6d90a4d572f6a45dae2901"
  },
  "kernelspec": {
   "display_name": "Python 3.8.5 64-bit ('environment': venv)",
   "language": "python",
   "name": "python3"
  },
  "language_info": {
   "codemirror_mode": {
    "name": "ipython",
    "version": 3
   },
   "file_extension": ".py",
   "mimetype": "text/x-python",
   "name": "python",
   "nbconvert_exporter": "python",
   "pygments_lexer": "ipython3",
   "version": "3.10.0"
  },
  "orig_nbformat": 4
 },
 "nbformat": 4,
 "nbformat_minor": 2
}
